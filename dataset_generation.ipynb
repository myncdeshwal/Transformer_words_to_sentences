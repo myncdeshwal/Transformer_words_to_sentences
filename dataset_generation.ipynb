{
  "nbformat": 4,
  "nbformat_minor": 0,
  "metadata": {
    "colab": {
      "name": "day_of_the_Knight.ipynb",
      "provenance": [],
      "collapsed_sections": [
        "DvXGyEQgrZHz",
        "u6_7wshfm-0o",
        "5gXtSFfBkimk",
        "rcRTpH5Ut8Hp",
        "emFatFHKARUH",
        "IGR6dctTtVQQ"
      ]
    },
    "kernelspec": {
      "name": "python3",
      "display_name": "Python 3"
    },
    "language_info": {
      "name": "python"
    },
    "gpuClass": "standard"
  },
  "cells": [
    {
      "cell_type": "markdown",
      "source": [
        "# Setup"
      ],
      "metadata": {
        "id": "DvXGyEQgrZHz"
      }
    },
    {
      "cell_type": "code",
      "source": [
        "import numpy as np\n",
        "import pandas as pd\n",
        "import tensorflow as tf\n",
        "from collections import defaultdict\n",
        "import common_functions as cf"
      ],
      "metadata": {
        "id": "j1KrvDpOos0W"
      },
      "execution_count": null,
      "outputs": []
    },
    {
      "cell_type": "markdown",
      "source": [
        "#Preparing Lines"
      ],
      "metadata": {
        "id": "u6_7wshfm-0o"
      }
    },
    {
      "cell_type": "code",
      "execution_count": null,
      "metadata": {
        "id": "Dg0fcWpOO9D_"
      },
      "outputs": [],
      "source": [
        "def modifyLine(line):\n",
        "  line = line.replace(\"\\'ll\", \" will\")\n",
        "  line = line.replace(\"\\'re\", \" are\")\n",
        "  line = line.replace(\"\\'m\", \" am\")\n",
        "  line = line.replace(\"\\'d\", \" would\")\n",
        "  line = line.replace(\"n\\'t\", \" not\")\n",
        "  line = line.replace(\"\\'ve\", \" have\")\n",
        "  line = line.replace(\"\\'s\", \" \\'s\")\n",
        "  line = line.replace(\"s\\'\", \" \\'s\")\n",
        "\n",
        "  return line\n",
        "\n",
        "#convert multiple continous dots into three continous dots\n",
        "\n",
        "file = open('/content/well.txt', 'r')\n",
        "allLines = file.readlines()\n",
        "string = \"\"\n",
        "for line in allLines:  \n",
        "  string += line\n",
        "string = string.replace(\"\\n\", \"\")\n",
        "prepared_lines = []\n",
        "temp_string = string[0]\n",
        "for i in range(1,len(string)):\n",
        "  if i< len(string)-2:\n",
        "    if (string[i] =='.' or string[i]==\":\") and ( (string[i+1].isspace() and (not string[i+2].islower())) or (string[i-1].islower() and (string[i+1].isupper() or string[i+1]==\"\\\"\"))):\n",
        "      temp_string += string[i]\n",
        "      prepared_lines.append(modifyLine(temp_string))\n",
        "      temp_string = \"\"\n",
        "    else:\n",
        "      temp_string += string[i]   \n",
        "    if string[i] =='.' and string[i+1] =='.' and string[i+2] =='.':  \n",
        "      temp_string += string[i]\n",
        "      prepared_lines.append(modifyLine(temp_string))\n",
        "      temp_string = \"\"\n",
        "      i=i+2\n",
        "  else:\n",
        "    if string[i] =='.':\n",
        "      temp_string += string[i]\n",
        "      prepared_lines.append(modifyLine(temp_string))\n",
        "      temp_string = \"\"\n",
        "    else:\n",
        "      temp_string += string[i]"
      ]
    },
    {
      "cell_type": "code",
      "source": [
        "def preparelines(string):\n",
        "\n",
        "  string = string.replace(\"\\n\", \"\")\n",
        "  prepared_lines = []\n",
        "  temp_string = string[0]\n",
        "  for i in range(1,len(string)):\n",
        "    if i< len(string)-2:\n",
        "      if (string[i] =='.' or string[i]==\":\") and ( (string[i+1].isspace() and (not string[i+2].islower())) or (string[i-1].islower() and (string[i+1].isupper() or string[i+1]==\"\\\"\"))):\n",
        "        temp_string += string[i]\n",
        "        prepared_lines.append(modifyLine(temp_string))\n",
        "        temp_string = \"\"\n",
        "      else:\n",
        "        temp_string += string[i]   \n",
        "      if string[i] =='.' and string[i+1] =='.' and string[i+2] =='.':  \n",
        "        temp_string += string[i]\n",
        "        prepared_lines.append(modifyLine(temp_string))\n",
        "        temp_string = \"\"\n",
        "        i=i+2\n",
        "    else:\n",
        "      if string[i] =='.':\n",
        "        temp_string += string[i]\n",
        "        prepared_lines.append(modifyLine(temp_string))\n",
        "        temp_string = \"\"\n",
        "      else:\n",
        "        temp_string += string[i]\n",
        "  return prepared_lines"
      ],
      "metadata": {
        "id": "ZLQC_6f7JlSo"
      },
      "execution_count": null,
      "outputs": []
    },
    {
      "cell_type": "markdown",
      "source": [
        "# Ruining the grammer"
      ],
      "metadata": {
        "id": "5gXtSFfBkimk"
      }
    },
    {
      "cell_type": "code",
      "source": [
        "verb_forms_df = pd.read_csv(\"verbs.txt\")\n",
        "verb_forms_to_simple_form = defaultdict(list)\n",
        "\n",
        "a = verb_forms_df[\"PresentTense\"].str.lower()\n",
        "b = verb_forms_df[\"PastTense\"].str.lower()\n",
        "c = verb_forms_df[\"PastParticiple\"].str.lower()\n",
        "d = verb_forms_df[\"PresentParticiple\"].str.lower()\n",
        "\n",
        "def ruin_grammer(line):\n",
        "  for i, word in enumerate(b):\n",
        "    line = line.replace(\" \"+word+\" \",\" \"+a[i]+\" \")\n",
        "  for i, word in enumerate(c):\n",
        "    line = line.replace(\" \"+word+\" \",\" \"+a[i]+\" \")\n",
        "  for i, word in enumerate(d):\n",
        "    line = line.replace(\" \"+word+\" \",\" \"+a[i]+\" \")\n",
        "  line = line.replace(\" a \", \" \")\n",
        "  line = line.replace(\" an \", \" \")\n",
        "  line = line.replace(\" from \", \" \")\n",
        "  line = line.replace(\" the \", \" \")\n",
        "  line = line.replace(\" on \", \" \")\n",
        "  line = line.replace(\" in \", \" \")\n",
        "  line = line.replace(\" at \", \" \")\n",
        "  line = line.replace(\" of \", \" \")\n",
        "  line = line.replace(\" is \", \" \")\n",
        "  line = line.replace(\" am \", \" \")\n",
        "  line = line.replace(\" to \", \" \")\n",
        "  line = line.replace(\" was \", \" \")\n",
        "  line = line.replace(\" were \", \" \")\n",
        "  line = line.replace(\" it \", \" \")\n",
        "  line = line.replace(\" can \", \" \")\n",
        "  line = line.replace(\" your \", \" you \")\n",
        "  return line"
      ],
      "metadata": {
        "id": "FOii89LHGmhf"
      },
      "execution_count": null,
      "outputs": []
    },
    {
      "cell_type": "markdown",
      "source": [
        "# Dataset with context"
      ],
      "metadata": {
        "id": "rcRTpH5Ut8Hp"
      }
    },
    {
      "cell_type": "code",
      "source": [
        "# assuming prepared lines are modified and standardized \n",
        "\n",
        "MAX_TOKENS = 128\n",
        "\n",
        "train_context=[] \n",
        "train_input=[] \n",
        "train_target = []"
      ],
      "metadata": {
        "id": "TdMa5Umxt_XL"
      },
      "execution_count": null,
      "outputs": []
    },
    {
      "cell_type": "code",
      "source": [
        "def data_with_context(prepared_lines):\n",
        "\n",
        "  context = \"\"\n",
        "  for i, line in enumerate(prepared_lines):\n",
        "    temp_context = \"\"\n",
        "    train_context.append(context)\n",
        "    train_input.append(ruin_grammer(line))\n",
        "    overflow = 2 + len(context.split()) + len(line.split()) - MAX_TOKENS\n",
        "    if overflow<0:\n",
        "      overflow = 0\n",
        "    splits = context.split()\n",
        "    for index in range(overflow, len(splits)):\n",
        "      temp_context += splits[index]+\" \"\n",
        "    context = temp_context + line\n",
        "    train_target.append(line)  "
      ],
      "metadata": {
        "id": "DY7YAQjuskVQ"
      },
      "execution_count": null,
      "outputs": []
    },
    {
      "cell_type": "markdown",
      "source": [
        "# Making dataset with books "
      ],
      "metadata": {
        "id": "emFatFHKARUH"
      }
    },
    {
      "cell_type": "code",
      "source": [
        "cf.unzip_data(\"/content/drive/MyDrive/literature.zip\")\n",
        "\n",
        "import pandas as pd\n",
        "import sqlite3\n",
        "import sqlalchemy \n",
        "\n",
        "try:\n",
        "    conn = sqlite3.connect(\"books.db\")    \n",
        "except Exception as e:\n",
        "    print(e)\n",
        "\n",
        "#Now in order to read in pandas dataframe we need to know table name\n",
        "cursor = conn.cursor()\n",
        "cursor.execute(\"SELECT name FROM sqlite_master WHERE type='table';\")\n",
        "#print(f\"Table Name : {cursor.fetchall()}\")\n",
        "\n",
        "df = pd.read_sql_query('SELECT * FROM text_files', conn)\n",
        "meow = df.iloc[0][\"text\"]\n",
        "\n",
        "conn.close()"
      ],
      "metadata": {
        "id": "WbEe9j3dAoej"
      },
      "execution_count": null,
      "outputs": []
    },
    {
      "cell_type": "code",
      "source": [
        "data_with_context(prepared_lines)\n",
        "for i in range(100, len(df)-100):\n",
        "  text = df.iloc[i][\"text\"]\n",
        "  temp = text.splitlines()\n",
        "  string = \"\"\n",
        "  for line in temp:\n",
        "    if line != '':\n",
        "      string = string + \" \" +line\n",
        "\n",
        "  prepared_lines = preparelines(string)\n",
        "  data_with_context(prepared_lines)"
      ],
      "metadata": {
        "id": "cRxWAgDZm5Y3"
      },
      "execution_count": null,
      "outputs": []
    },
    {
      "cell_type": "code",
      "source": [
        "train_context = train_context[:1950000] \n",
        "train_input = train_input[:1950000] \n",
        "train_target = train_target[:1950000] \n",
        "\n",
        "f_c= open(r'/content/drive/MyDrive/train_context', 'w')\n",
        "f_i= open(r'/content/drive/MyDrive/train_input', 'w')\n",
        "f_t= open(r'/content/drive/MyDrive/train_target', 'w')\n",
        "\n",
        "for element in train_context:\n",
        "    f_c.write(element + \"\\n\")\n",
        "\n",
        "for element in train_input:\n",
        "    f_i.write(element + \"\\n\")\n",
        "\n",
        "for element in train_target:\n",
        "    f_t.write(element + \"\\n\")\n",
        "\n",
        "f_c.close()\n",
        "f_i.close()\n",
        "f_t.close()"
      ],
      "metadata": {
        "id": "nuijh4kZvzjE"
      },
      "execution_count": null,
      "outputs": []
    },
    {
      "cell_type": "markdown",
      "source": [
        "# Close connection to sqllite"
      ],
      "metadata": {
        "id": "IGR6dctTtVQQ"
      }
    },
    {
      "cell_type": "code",
      "source": [
        "conn.close()"
      ],
      "metadata": {
        "id": "E18_OF5ztXug"
      },
      "execution_count": null,
      "outputs": []
    },
    {
      "cell_type": "markdown",
      "source": [
        "# Testing Area"
      ],
      "metadata": {
        "id": "54GjiPKzrgvD"
      }
    },
    {
      "cell_type": "code",
      "source": [
        "import tensorflow.keras as keras\n",
        "import tensorflow as tf\n",
        "class CustomSchedule(keras.optimizers.schedules.LearningRateSchedule):\n",
        "  def __init__(self, d_model, warmup_steps = 4000):\n",
        "    super(CustomSchedule, self).__init__()\n",
        "\n",
        "    self.d_model = d_model \n",
        "    self.d_model = tf.cast(self.d_model, dtype= tf.float32)\n",
        "    self.warmup_steps = warmup_steps\n",
        "\n",
        "  def __call__(self, step):\n",
        "    step = step*1.35\n",
        "    arg1 = tf.math.rsqrt(step)\n",
        "    arg2 = step * (self.warmup_steps ** -1.5)\n",
        "\n",
        "    return tf.math.rsqrt(self.d_model) * tf.math.minimum(arg1, arg2)"
      ],
      "metadata": {
        "id": "91d1VzCCrlDy"
      },
      "execution_count": 5,
      "outputs": []
    },
    {
      "cell_type": "code",
      "source": [
        "import matplotlib.pyplot as plt\n",
        "temp_learning_rate_schedule = CustomSchedule(512)\n",
        "\n",
        "plt.plot(temp_learning_rate_schedule(tf.range(40000, dtype=tf.float32)))\n",
        "plt.ylabel('Learning Rate')\n",
        "plt.xlabel('Train Step')"
      ],
      "metadata": {
        "colab": {
          "base_uri": "https://localhost:8080/",
          "height": 297
        },
        "id": "hxSUsH1Arfdq",
        "outputId": "f173997a-1673-473e-cb9f-df2373746fb8"
      },
      "execution_count": 6,
      "outputs": [
        {
          "output_type": "execute_result",
          "data": {
            "text/plain": [
              "Text(0.5, 0, 'Train Step')"
            ]
          },
          "metadata": {},
          "execution_count": 6
        },
        {
          "output_type": "display_data",
          "data": {
            "text/plain": [
              "<Figure size 432x288 with 1 Axes>"
            ],
            "image/png": "[encoded data removed]"
          },
          "metadata": {
            "needs_background": "light"
          }
        }
      ]
    }
  ]
}